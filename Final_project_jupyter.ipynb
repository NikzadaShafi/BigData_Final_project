{
 "cells": [
  {
   "cell_type": "code",
   "execution_count": null,
   "metadata": {
    "id": "bkzQc3KxGQIJ"
   },
   "outputs": [],
   "source": [
    "!pip install snscrape\n",
    "!pip install pymongo"
   ]
  },
  {
   "cell_type": "code",
   "execution_count": 2,
   "metadata": {
    "id": "_0a7h6dBF1A9"
   },
   "outputs": [],
   "source": [
    "import os\n",
    "import json\n",
    "import pandas as pd\n",
    "import datetime as dt\n",
    "import snscrape.modules.twitter as sntwitter\n",
    "import pymongo\n",
    "import json\n"
   ]
  },
  {
   "cell_type": "markdown",
   "metadata": {
    "id": "FqDQWYULLbLb"
   },
   "source": [
    "# Query \"LasVegas\" with Co-occurance of \"nightlife\". So that we can find out socializing preference of people in Las Vegas."
   ]
  },
  {
   "cell_type": "code",
   "execution_count": 3,
   "metadata": {
    "id": "NZwmvpbPGBK2"
   },
   "outputs": [],
   "source": [
    "# Define the search query\n",
    "search_query = \"#LasVegas nightlife\"\n",
    "\n",
    "# Specify the maximum number of tweets to scrape\n",
    "max_tweets = 10000\n",
    "\n",
    "# Scrape the tweets and store them in a list\n",
    "tweets = []\n",
    "for i, tweet in enumerate(sntwitter.TwitterSearchScraper(search_query).get_items()):\n",
    "    if i >= max_tweets:\n",
    "        break\n",
    "    tweets.append(json.loads(tweet.json()))"
   ]
  },
  {
   "cell_type": "markdown",
   "metadata": {},
   "source": [
    "# Connect to MongoDB"
   ]
  },
  {
   "cell_type": "markdown",
   "metadata": {},
   "source": [
    "## Uncomment the following lines of code if you want to store the tweets in MongoDB"
   ]
  },
  {
   "cell_type": "code",
   "execution_count": 21,
   "metadata": {
    "colab": {
     "base_uri": "https://localhost:8080/",
     "height": 381
    },
    "id": "ABqC72bvdR21",
    "outputId": "36be3996-3275-4a31-9421-84aad48071ea"
   },
   "outputs": [],
   "source": [
    "\n",
    "# # Connect to the MongoDB server using the MongoClient() function.\n",
    "# client = pymongo.MongoClient(\"mongodb://127.0.0.1:27017/\")\n",
    "# # Now let's create a database using the client object.\n",
    "# db = client['Tweets']\n",
    "\n",
    "# # Create collection\n",
    "# collection = db['Tweetcollection']\n",
    "# x = collection.insert_many(tweets)"
   ]
  },
  {
   "cell_type": "code",
   "execution_count": null,
   "metadata": {
    "id": "FD0gMEQF1J6G"
   },
   "outputs": [],
   "source": [
    "# Convert the list of tweets into a Pandas DataFrame\n",
    "df2 = pd.DataFrame(tweets)"
   ]
  },
  {
   "cell_type": "code",
   "execution_count": 4,
   "metadata": {
    "id": "q1Hp4U0Nx-iv"
   },
   "outputs": [],
   "source": [
    "# Select the \"date\", \"content\", and...\n",
    "df2 = df2[[\"date\",\"rawContent\",\"replyCount\",\"retweetCount\",\"likeCount\",\"username\"]]\n",
    "# df2.to_csv('tweets.csv', index=False)"
   ]
  },
  {
   "cell_type": "markdown",
   "metadata": {},
   "source": [
    "## Saved the tweets to not download it everytime"
   ]
  },
  {
   "cell_type": "code",
   "execution_count": 3,
   "metadata": {},
   "outputs": [],
   "source": [
    "df2 = pd.read_csv(\"tweets.csv\")"
   ]
  },
  {
   "cell_type": "code",
   "execution_count": 5,
   "metadata": {
    "id": "ilLqFCK_Eurt"
   },
   "outputs": [],
   "source": [
    "# convert date column to pandas datetime format\n",
    "df2['date'] = pd.to_datetime(df2['date'])\n",
    "\n",
    "# add weekday column\n",
    "df2['weekday'] = df2['date'].dt.day_name()\n",
    "\n",
    "#add a new column called 'tweet_number'\n",
    "df2['tweet_number'] = df2.index + 1"
   ]
  },
  {
   "cell_type": "code",
   "execution_count": 12,
   "metadata": {
    "colab": {
     "base_uri": "https://localhost:8080/",
     "height": 641
    },
    "id": "SIQs6sczFUfS",
    "outputId": "4fb95132-be48-431c-8947-3170d96c7103"
   },
   "outputs": [
    {
     "data": {
      "text/html": [
       "<div>\n",
       "<style scoped>\n",
       "    .dataframe tbody tr th:only-of-type {\n",
       "        vertical-align: middle;\n",
       "    }\n",
       "\n",
       "    .dataframe tbody tr th {\n",
       "        vertical-align: top;\n",
       "    }\n",
       "\n",
       "    .dataframe thead th {\n",
       "        text-align: right;\n",
       "    }\n",
       "</style>\n",
       "<table border=\"1\" class=\"dataframe\">\n",
       "  <thead>\n",
       "    <tr style=\"text-align: right;\">\n",
       "      <th></th>\n",
       "      <th>date</th>\n",
       "      <th>rawContent</th>\n",
       "      <th>replyCount</th>\n",
       "      <th>retweetCount</th>\n",
       "      <th>likeCount</th>\n",
       "      <th>username</th>\n",
       "      <th>weekday</th>\n",
       "      <th>tweet_number</th>\n",
       "    </tr>\n",
       "  </thead>\n",
       "  <tbody>\n",
       "    <tr>\n",
       "      <th>0</th>\n",
       "      <td>2023-04-08 20:20:23+00:00</td>\n",
       "      <td>TONIGHT in #LasVegas: @djcolette at The Usual ...</td>\n",
       "      <td>0</td>\n",
       "      <td>1</td>\n",
       "      <td>3</td>\n",
       "      <td>DeannaRilling</td>\n",
       "      <td>Saturday</td>\n",
       "      <td>1</td>\n",
       "    </tr>\n",
       "    <tr>\n",
       "      <th>1</th>\n",
       "      <td>2023-04-06 17:49:12+00:00</td>\n",
       "      <td>Boots for ramping🤣💃 #boots #lasvegas #peppermi...</td>\n",
       "      <td>0</td>\n",
       "      <td>0</td>\n",
       "      <td>0</td>\n",
       "      <td>angelaAchavez</td>\n",
       "      <td>Thursday</td>\n",
       "      <td>2</td>\n",
       "    </tr>\n",
       "    <tr>\n",
       "      <th>2</th>\n",
       "      <td>2023-04-05 23:19:46+00:00</td>\n",
       "      <td>Las vegas bartenders be like......... 😄😄😄😄 @lo...</td>\n",
       "      <td>0</td>\n",
       "      <td>0</td>\n",
       "      <td>1</td>\n",
       "      <td>LVKrayzie702</td>\n",
       "      <td>Wednesday</td>\n",
       "      <td>3</td>\n",
       "    </tr>\n",
       "    <tr>\n",
       "      <th>3</th>\n",
       "      <td>2023-04-05 09:17:01+00:00</td>\n",
       "      <td>Share the #Best #lasvegas content\\nDownload th...</td>\n",
       "      <td>0</td>\n",
       "      <td>0</td>\n",
       "      <td>0</td>\n",
       "      <td>whatisbestnow</td>\n",
       "      <td>Wednesday</td>\n",
       "      <td>4</td>\n",
       "    </tr>\n",
       "    <tr>\n",
       "      <th>4</th>\n",
       "      <td>2023-04-05 09:16:55+00:00</td>\n",
       "      <td>#Best of the day on https://t.co/JMpv5fICLq\\nW...</td>\n",
       "      <td>0</td>\n",
       "      <td>0</td>\n",
       "      <td>1</td>\n",
       "      <td>BestTLD</td>\n",
       "      <td>Wednesday</td>\n",
       "      <td>5</td>\n",
       "    </tr>\n",
       "    <tr>\n",
       "      <th>...</th>\n",
       "      <td>...</td>\n",
       "      <td>...</td>\n",
       "      <td>...</td>\n",
       "      <td>...</td>\n",
       "      <td>...</td>\n",
       "      <td>...</td>\n",
       "      <td>...</td>\n",
       "      <td>...</td>\n",
       "    </tr>\n",
       "    <tr>\n",
       "      <th>9995</th>\n",
       "      <td>2016-01-19 19:54:11+00:00</td>\n",
       "      <td>Nightlife in Vegas!  This town never sleeps!\\n...</td>\n",
       "      <td>0</td>\n",
       "      <td>0</td>\n",
       "      <td>4</td>\n",
       "      <td>vegassefie</td>\n",
       "      <td>Tuesday</td>\n",
       "      <td>9996</td>\n",
       "    </tr>\n",
       "    <tr>\n",
       "      <th>9996</th>\n",
       "      <td>2016-01-19 19:53:56+00:00</td>\n",
       "      <td>Introducing Empire Nightlife Las Vegas! #clubc...</td>\n",
       "      <td>0</td>\n",
       "      <td>0</td>\n",
       "      <td>1</td>\n",
       "      <td>empirecrawllv</td>\n",
       "      <td>Tuesday</td>\n",
       "      <td>9997</td>\n",
       "    </tr>\n",
       "    <tr>\n",
       "      <th>9997</th>\n",
       "      <td>2016-01-19 16:10:58+00:00</td>\n",
       "      <td>#nevada #lasvegas #vegas #casino We like the n...</td>\n",
       "      <td>0</td>\n",
       "      <td>0</td>\n",
       "      <td>1</td>\n",
       "      <td>bovinzorin</td>\n",
       "      <td>Tuesday</td>\n",
       "      <td>9998</td>\n",
       "    </tr>\n",
       "    <tr>\n",
       "      <th>9998</th>\n",
       "      <td>2016-01-19 01:25:34+00:00</td>\n",
       "      <td>Amazing Aria....\\n----------------------------...</td>\n",
       "      <td>0</td>\n",
       "      <td>0</td>\n",
       "      <td>3</td>\n",
       "      <td>CarolKurth</td>\n",
       "      <td>Tuesday</td>\n",
       "      <td>9999</td>\n",
       "    </tr>\n",
       "    <tr>\n",
       "      <th>9999</th>\n",
       "      <td>2016-01-18 16:17:15+00:00</td>\n",
       "      <td>Coming Soon! Best #Bars #Pubs #Nightlife\\n#Cin...</td>\n",
       "      <td>0</td>\n",
       "      <td>5</td>\n",
       "      <td>8</td>\n",
       "      <td>ChoiceNCheers</td>\n",
       "      <td>Monday</td>\n",
       "      <td>10000</td>\n",
       "    </tr>\n",
       "  </tbody>\n",
       "</table>\n",
       "<p>10000 rows × 8 columns</p>\n",
       "</div>"
      ],
      "text/plain": [
       "                          date  \\\n",
       "0    2023-04-08 20:20:23+00:00   \n",
       "1    2023-04-06 17:49:12+00:00   \n",
       "2    2023-04-05 23:19:46+00:00   \n",
       "3    2023-04-05 09:17:01+00:00   \n",
       "4    2023-04-05 09:16:55+00:00   \n",
       "...                        ...   \n",
       "9995 2016-01-19 19:54:11+00:00   \n",
       "9996 2016-01-19 19:53:56+00:00   \n",
       "9997 2016-01-19 16:10:58+00:00   \n",
       "9998 2016-01-19 01:25:34+00:00   \n",
       "9999 2016-01-18 16:17:15+00:00   \n",
       "\n",
       "                                             rawContent  replyCount  \\\n",
       "0     TONIGHT in #LasVegas: @djcolette at The Usual ...           0   \n",
       "1     Boots for ramping🤣💃 #boots #lasvegas #peppermi...           0   \n",
       "2     Las vegas bartenders be like......... 😄😄😄😄 @lo...           0   \n",
       "3     Share the #Best #lasvegas content\\nDownload th...           0   \n",
       "4     #Best of the day on https://t.co/JMpv5fICLq\\nW...           0   \n",
       "...                                                 ...         ...   \n",
       "9995  Nightlife in Vegas!  This town never sleeps!\\n...           0   \n",
       "9996  Introducing Empire Nightlife Las Vegas! #clubc...           0   \n",
       "9997  #nevada #lasvegas #vegas #casino We like the n...           0   \n",
       "9998  Amazing Aria....\\n----------------------------...           0   \n",
       "9999  Coming Soon! Best #Bars #Pubs #Nightlife\\n#Cin...           0   \n",
       "\n",
       "      retweetCount  likeCount       username    weekday  tweet_number  \n",
       "0                1          3  DeannaRilling   Saturday             1  \n",
       "1                0          0  angelaAchavez   Thursday             2  \n",
       "2                0          1   LVKrayzie702  Wednesday             3  \n",
       "3                0          0  whatisbestnow  Wednesday             4  \n",
       "4                0          1        BestTLD  Wednesday             5  \n",
       "...            ...        ...            ...        ...           ...  \n",
       "9995             0          4     vegassefie    Tuesday          9996  \n",
       "9996             0          1  empirecrawllv    Tuesday          9997  \n",
       "9997             0          1     bovinzorin    Tuesday          9998  \n",
       "9998             0          3     CarolKurth    Tuesday          9999  \n",
       "9999             5          8  ChoiceNCheers     Monday         10000  \n",
       "\n",
       "[10000 rows x 8 columns]"
      ]
     },
     "execution_count": 12,
     "metadata": {},
     "output_type": "execute_result"
    }
   ],
   "source": [
    "df2"
   ]
  },
  {
   "cell_type": "code",
   "execution_count": 6,
   "metadata": {
    "colab": {
     "base_uri": "https://localhost:8080/",
     "height": 538
    },
    "id": "dNY7Goh26F7S",
    "outputId": "e7d53caf-2fad-4580-ad5b-5882a5dc8483",
    "scrolled": true
   },
   "outputs": [
    {
     "data": {
      "image/png": "[encoded data removed]",
      "text/plain": [
       "<Figure size 432x288 with 1 Axes>"
      ]
     },
     "metadata": {
      "needs_background": "light"
     },
     "output_type": "display_data"
    }
   ],
   "source": [
    "# Create a bar plot of the weekdays\n",
    "import matplotlib.pyplot as plt\n",
    "\n",
    "weekday_counts = df2['weekday'].value_counts()\n",
    "weekday_counts.plot(kind='bar')\n",
    "\n",
    "# Set the title and axis labels\n",
    "plt.title('Weakdays where ppl goes out')\n",
    "plt.xlabel('Days of the week')\n",
    "plt.ylabel('Count')\n",
    "\n",
    "# Show the plot\n",
    "plt.show()"
   ]
  },
  {
   "cell_type": "markdown",
   "metadata": {},
   "source": [
    "# Normalize the frequency distribution"
   ]
  },
  {
   "cell_type": "code",
   "execution_count": 7,
   "metadata": {},
   "outputs": [
    {
     "name": "stdout",
     "output_type": "stream",
     "text": [
      "Saturday     0.1604\n",
      "Friday       0.1597\n",
      "Thursday     0.1493\n",
      "Sunday       0.1411\n",
      "Tuesday      0.1355\n",
      "Wednesday    0.1284\n",
      "Monday       0.1256\n",
      "Name: weekday, dtype: float64\n"
     ]
    },
    {
     "data": {
      "image/png": "[encoded data removed]",
      "text/plain": [
       "<Figure size 432x288 with 1 Axes>"
      ]
     },
     "metadata": {
      "needs_background": "light"
     },
     "output_type": "display_data"
    }
   ],
   "source": [
    "weekday_probabilities = weekday_counts / weekday_counts.sum()\n",
    "print(weekday_probabilities)\n",
    "\n",
    "# create a histogram of the weekday distribution\n",
    "plt.bar(weekday_probabilities.index, weekday_probabilities.values)\n",
    "plt.xlabel('Weekday')\n",
    "plt.ylabel('Probability')\n",
    "plt.xticks(rotation=90)\n",
    "plt.show()"
   ]
  },
  {
   "cell_type": "code",
   "execution_count": 8,
   "metadata": {
    "colab": {
     "base_uri": "https://localhost:8080/"
    },
    "id": "_MK_F-PGJWAq",
    "outputId": "8d4c05d7-c083-47cb-d5d5-c1e1127fa6c9"
   },
   "outputs": [],
   "source": [
    "import pandas as pd\n",
    "import re\n",
    "\n",
    "# extract unique hashtags from each row\n",
    "unique_hashtags = df2['rawContent'].apply(lambda x: set(re.findall(r'\\b\\w+#?\\w+\\b', x.lower())))\n",
    "\n",
    "# count the occurrence of each unique hashtag\n",
    "top_hashtags = pd.Series([hashtag for hashtags in unique_hashtags for hashtag in hashtags]).value_counts()\n",
    "\n",
    "# delete some unneccessary tags\n",
    "top_hashtags = top_hashtags.drop(labels=top_hashtags.head(33).index)\n",
    "top_hashtags = top_hashtags.drop(labels=top_hashtags.head(15).index[3:])\n",
    "top_hashtags = top_hashtags.drop(labels=top_hashtags.head(27).index[4:])\n",
    "top_hashtags = top_hashtags.drop(labels=top_hashtags.head(20).index[5:])\n",
    "top_hashtags = top_hashtags.drop(labels=top_hashtags.head(15).index[6:])\n",
    "top_hashtags = top_hashtags.drop(labels=top_hashtags.head(27).index[7:])\n",
    "top_hashtags = top_hashtags.drop(labels=top_hashtags.head(14).index[8:])\n",
    "\n",
    "# Add those tags which is the same but in different syntax\n",
    "top_hashtags[\"hakkasan\"] = top_hashtags[\"hakkasan\"] + top_hashtags[\"hakkasanlv\"] \n",
    "top_hashtags[\"omnia\"] = top_hashtags[\"omnia\"] + top_hashtags[\"omnialv\"]\n",
    "top_hashtags = top_hashtags.drop(\"hakkasanlv\")\n",
    "top_hashtags = top_hashtags.drop(\"omnialv\")\n",
    "top_hashtags = top_hashtags.drop(\"vegasbound\")"
   ]
  },
  {
   "cell_type": "code",
   "execution_count": 9,
   "metadata": {
    "id": "mFoz6ZWPT1d4"
   },
   "outputs": [
    {
     "data": {
      "image/png": "[encoded data removed]",
      "text/plain": [
       "<Figure size 432x288 with 1 Axes>"
      ]
     },
     "metadata": {
      "needs_background": "light"
     },
     "output_type": "display_data"
    }
   ],
   "source": [
    "top_hashtags_new = top_hashtags.head(7)\n",
    "\n",
    "# Create a bar plot of the top hashtags\n",
    "top_hashtags_new.plot(kind='bar')\n",
    "\n",
    "# Set the title and axis labels\n",
    "plt.title('Top Hashtags')\n",
    "plt.xlabel('Hashtag')\n",
    "plt.ylabel('Count')\n",
    "\n",
    "# Show the plot\n",
    "plt.show()"
   ]
  },
  {
   "cell_type": "code",
   "execution_count": null,
   "metadata": {},
   "outputs": [],
   "source": []
  }
 ],
 "metadata": {
  "colab": {
   "provenance": []
  },
  "kernelspec": {
   "display_name": "Python 3",
   "language": "python",
   "name": "python3"
  },
  "language_info": {
   "codemirror_mode": {
    "name": "ipython",
    "version": 3
   },
   "file_extension": ".py",
   "mimetype": "text/x-python",
   "name": "python",
   "nbconvert_exporter": "python",
   "pygments_lexer": "ipython3",
   "version": "3.8.5"
  },
  "varInspector": {
   "cols": {
    "lenName": 16,
    "lenType": 16,
    "lenVar": 40
   },
   "kernels_config": {
    "python": {
     "delete_cmd_postfix": "",
     "delete_cmd_prefix": "del ",
     "library": "var_list.py",
     "varRefreshCmd": "print(var_dic_list())"
    },
    "r": {
     "delete_cmd_postfix": ") ",
     "delete_cmd_prefix": "rm(",
     "library": "var_list.r",
     "varRefreshCmd": "cat(var_dic_list()) "
    }
   },
   "types_to_exclude": [
    "module",
    "function",
    "builtin_function_or_method",
    "instance",
    "_Feature"
   ],
   "window_display": false
  }
 },
 "nbformat": 4,
 "nbformat_minor": 1
}
